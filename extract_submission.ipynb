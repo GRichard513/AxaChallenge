{
 "cells": [
  {
   "cell_type": "markdown",
   "metadata": {},
   "source": [
    "# Running some tests"
   ]
  },
  {
   "cell_type": "code",
   "execution_count": 131,
   "metadata": {
    "collapsed": true
   },
   "outputs": [],
   "source": [
    "import pandas as pd\n",
    "import numpy as np\n",
    "import datetime\n",
    "\n",
    "df = pd.read_csv('data/train.csv', delimiter=';', nrows = 10000)\n",
    "df['date'] = pd.to_datetime(df['DATE'],infer_datetime_format=True)\n",
    "y = df['CSPL_CALLS']"
   ]
  },
  {
   "cell_type": "markdown",
   "metadata": {},
   "source": [
    "### Parsing date"
   ]
  },
  {
   "cell_type": "code",
   "execution_count": 95,
   "metadata": {
    "collapsed": false
   },
   "outputs": [],
   "source": [
    "if False:\n",
    "    d = datetime.datetime.now()\n",
    "    print(d)\n",
    "    # Jour dans le mois\n",
    "    print(d.day)\n",
    "    # Numéro du mois\n",
    "    print(d.month)\n",
    "    # Année\n",
    "    print(d.year)\n",
    "    # Jour travaillé (0/1)\n",
    "    print(d.isoweekday())\n",
    "    # Heure\n",
    "    print(d.hour)\n",
    "    # Minutes\n",
    "    print(d.minute)\n",
    "    # Secondes\n",
    "    print(d.second)"
   ]
  },
  {
   "cell_type": "code",
   "execution_count": 96,
   "metadata": {
    "collapsed": false
   },
   "outputs": [],
   "source": [
    "def is_working_day(d):\n",
    "    return d.isoweekday()<6"
   ]
  },
  {
   "cell_type": "code",
   "execution_count": 97,
   "metadata": {
    "collapsed": false
   },
   "outputs": [],
   "source": [
    "def trimester(d):\n",
    "    return (d.month-1)//3"
   ]
  },
  {
   "cell_type": "code",
   "execution_count": 98,
   "metadata": {
    "collapsed": false
   },
   "outputs": [],
   "source": [
    "def is_day_shift(d):\n",
    "    min_hour = {\n",
    "        'hour':7,\n",
    "        'minute':30\n",
    "    }\n",
    "    max_hour = {\n",
    "        'hour':23,\n",
    "        'minute':30\n",
    "    }\n",
    "    hour_day = d.hour*60+d.minute\n",
    "    return (hour_day > min_hour['hour']*60+min_hour['minute']) & (hour_day < max_hour['hour']*60+max_hour['minute'])"
   ]
  },
  {
   "cell_type": "code",
   "execution_count": 99,
   "metadata": {
    "collapsed": true
   },
   "outputs": [],
   "source": [
    "def evolution_over_years(d):\n",
    "    min_date = {\n",
    "        \"year\": 2011,\n",
    "        \"month\": 1,\n",
    "        \"day\": 1\n",
    "    }\n",
    "    date_trimester = trimester(d)\n",
    "    year = d.year\n",
    "    return (year-min_date['year'])*4+date_trimester"
   ]
  },
  {
   "cell_type": "code",
   "execution_count": 90,
   "metadata": {
    "collapsed": true
   },
   "outputs": [],
   "source": [
    "data = df[['DATE', 'ASS_ASSIGNMENT']]"
   ]
  },
  {
   "cell_type": "code",
   "execution_count": 100,
   "metadata": {
    "collapsed": false
   },
   "outputs": [],
   "source": [
    "data['DATE'] = pd.to_datetime(df['DATE'],infer_datetime_format=True)"
   ]
  },
  {
   "cell_type": "code",
   "execution_count": 106,
   "metadata": {
    "collapsed": false
   },
   "outputs": [
    {
     "name": "stdout",
     "output_type": "stream",
     "text": [
      "Year, month, day ok.\n",
      "Hour, minute, second ok.\n",
      "Working day ok.\n",
      "Shift ok.\n",
      "Trimester ok.\n",
      "Evolution ok.\n"
     ]
    }
   ],
   "source": [
    "data['year'] = [dd.year for dd in data['DATE']]\n",
    "data['month'] = [dd.month for dd in data['DATE']]\n",
    "data['day'] = [dd.day for dd in data['DATE']]\n",
    "print(\"Year, month, day ok.\")\n",
    "data['hour'] = [dd.hour for dd in data['DATE']]\n",
    "data['minute'] = [dd.minute for dd in data['DATE']]\n",
    "data['second'] = [dd.second for dd in data['DATE']]\n",
    "print(\"Hour, minute, second ok.\")\n",
    "data['working'] = [is_working_day(dd) for dd in data['DATE']]\n",
    "print(\"Working day ok.\")\n",
    "data['shift'] = [is_day_shift(dd) for dd in data['DATE']]\n",
    "print(\"Shift ok.\")\n",
    "data['trimester'] = [trimester(dd) for dd in data['DATE']] \n",
    "print(\"Trimester ok.\")\n",
    "data['evolution'] = [evolution_over_years(dd) for dd in data['DATE']]\n",
    "print(\"Evolution ok.\")"
   ]
  },
  {
   "cell_type": "code",
   "execution_count": 122,
   "metadata": {
    "collapsed": false
   },
   "outputs": [],
   "source": [
    "map_assignment = {\n",
    "    \"CMS\":0,\n",
    "    \"Crises\":1,\n",
    "    \"Domicile\":2,\n",
    "    \"Gestion\":3,\n",
    "    \"Gestion - Accueil Téléphonique\":4,\n",
    "    \"Gestion Assurances\":5,\n",
    "    \"Gestion Relation Clienteles\":6,\n",
    "    \"Gestion Renault\":7,\n",
    "    \"Japon\":8,\n",
    "    \"Médical\":9,\n",
    "    \"Nuit\":10,\n",
    "    \"RENAULT\":11,\n",
    "    \"Regulation Medicale\":12,\n",
    "    \"SAP\":13,\n",
    "    \"Services\":14,\n",
    "    \"Tech. Axa\":15,\n",
    "    \"Tech. Inter\":16,\n",
    "    \"Téléphonie\":17, \n",
    "    \"RTC \":18\n",
    "}\n",
    "\n",
    "d = pd.get_dummies(data['ASS_ASSIGNMENT'])"
   ]
  },
  {
   "cell_type": "code",
   "execution_count": 151,
   "metadata": {
    "collapsed": false
   },
   "outputs": [],
   "source": [
    "new_data = pd.concat([data, d], axis=1)\n",
    "new_data = new_data.drop(['DATE','ASS_ASSIGNMENT'], axis=1)"
   ]
  },
  {
   "cell_type": "markdown",
   "metadata": {},
   "source": [
    "# Extracting testing dataset"
   ]
  },
  {
   "cell_type": "code",
   "execution_count": null,
   "metadata": {
    "collapsed": true
   },
   "outputs": [],
   "source": []
  },
  {
   "cell_type": "markdown",
   "metadata": {},
   "source": [
    "# Implementing regressor"
   ]
  },
  {
   "cell_type": "code",
   "execution_count": 152,
   "metadata": {
    "collapsed": false
   },
   "outputs": [
    {
     "name": "stdout",
     "output_type": "stream",
     "text": [
      "(8000, 43)\n",
      "(2000, 43)\n",
      "(8000,)\n",
      "(2000,)\n"
     ]
    }
   ],
   "source": [
    "from sklearn.model_selection import train_test_split\n",
    "\n",
    "X_train, X_test, y_train, y_test = train_test_split(new_data, y, test_size=0.2)\n",
    "print(X_train.shape)\n",
    "print(X_test.shape)\n",
    "print(y_train.shape)\n",
    "print(y_test.shape)"
   ]
  },
  {
   "cell_type": "code",
   "execution_count": 153,
   "metadata": {
    "collapsed": false
   },
   "outputs": [
    {
     "data": {
      "text/plain": [
       "Ridge(alpha=1.0, copy_X=True, fit_intercept=True, max_iter=None,\n",
       "   normalize=False, random_state=None, solver='auto', tol=0.001)"
      ]
     },
     "execution_count": 153,
     "metadata": {},
     "output_type": "execute_result"
    }
   ],
   "source": [
    "from sklearn.linear_model import Ridge\n",
    "\n",
    "S=Ridge()\n",
    "S.fit(X_train, y_train)"
   ]
  },
  {
   "cell_type": "code",
   "execution_count": 155,
   "metadata": {
    "collapsed": false
   },
   "outputs": [],
   "source": [
    "y2=S.predict(X_test)"
   ]
  },
  {
   "cell_type": "code",
   "execution_count": 171,
   "metadata": {
    "collapsed": false
   },
   "outputs": [
    {
     "data": {
      "text/plain": [
       "27.51909702264831"
      ]
     },
     "execution_count": 171,
     "metadata": {},
     "output_type": "execute_result"
    }
   ],
   "source": [
    "import error_functions as ef\n",
    "\n",
    "y_test = np.array(y_test)\n",
    "ef.linex_loss(y2, y_test)\n"
   ]
  },
  {
   "cell_type": "code",
   "execution_count": null,
   "metadata": {
    "collapsed": true
   },
   "outputs": [],
   "source": []
  }
 ],
 "metadata": {
  "kernelspec": {
   "display_name": "Python [conda root]",
   "language": "python",
   "name": "conda-root-py"
  },
  "language_info": {
   "codemirror_mode": {
    "name": "ipython",
    "version": 3
   },
   "file_extension": ".py",
   "mimetype": "text/x-python",
   "name": "python",
   "nbconvert_exporter": "python",
   "pygments_lexer": "ipython3",
   "version": "3.5.2"
  }
 },
 "nbformat": 4,
 "nbformat_minor": 2
}
