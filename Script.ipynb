{
 "cells": [
  {
   "cell_type": "code",
   "execution_count": 1,
   "metadata": {
    "collapsed": false
   },
   "outputs": [
    {
     "name": "stderr",
     "output_type": "stream",
     "text": [
      "E\n",
      "======================================================================\n",
      "ERROR: C:\\Users\\Raphael\\AppData\\Roaming\\jupyter\\runtime\\kernel-411c3926-016e-45e4-9f76-5d1da81ce3de (unittest.loader._FailedTest)\n",
      "----------------------------------------------------------------------\n",
      "AttributeError: module '__main__' has no attribute 'C:\\Users\\Raphael\\AppData\\Roaming\\jupyter\\runtime\\kernel-411c3926-016e-45e4-9f76-5d1da81ce3de'\n",
      "\n",
      "----------------------------------------------------------------------\n",
      "Ran 1 test in 0.006s\n",
      "\n",
      "FAILED (errors=1)\n"
     ]
    },
    {
     "ename": "SystemExit",
     "evalue": "True",
     "output_type": "error",
     "traceback": [
      "An exception has occurred, use %tb to see the full traceback.\n",
      "\u001b[0;31mSystemExit\u001b[0m\u001b[0;31m:\u001b[0m True\n"
     ]
    },
    {
     "name": "stderr",
     "output_type": "stream",
     "text": [
      "C:\\Users\\Raphael\\AppData\\Local\\Continuum\\Anaconda3\\lib\\site-packages\\IPython\\core\\interactiveshell.py:2889: UserWarning: To exit: use 'exit', 'quit', or Ctrl-D.\n",
      "  warn(\"To exit: use 'exit', 'quit', or Ctrl-D.\", stacklevel=1)\n"
     ]
    }
   ],
   "source": [
    "#tests.py\n",
    "\n",
    "import unittest\n",
    "import error_functions as ef\n",
    "\n",
    "class TestErrorFunctions(unittest.TestCase):\n",
    "    def test_linex_loss_on_tuple(self):\n",
    "        self.assertAlmostEqual(ef.linex_loss_on_tuple(0, 0), 0)\n",
    "        self.assertAlmostEqual(ef.linex_loss_on_tuple(17, 17), 0)\n",
    "        self.assertAlmostEqual(ef.linex_loss_on_tuple(1, 0), 0.004837418)\n",
    "        self.assertAlmostEqual(ef.linex_loss_on_tuple(3.7, 17.2), 1.5074255306)\n",
    "\n",
    "\n",
    "    def test_linex_loss(self):\n",
    "        self.assertAlmostEqual(ef.linex_loss([0], [0]), 0)\n",
    "        self.assertAlmostEqual(ef.linex_loss([3.7], [17.2]), 1.5074255306)\n",
    "        self.assertRaises(Exception, ef.linex_loss, [0, 0], [0, 0, 10])\n",
    "        self.assertAlmostEqual(ef.linex_loss([0, 0], [0, 0]), 0)\n",
    "        self.assertAlmostEqual(ef.linex_loss([0, 3.7], [0, 17.2]), 1.5074255306)\n",
    "\n",
    "\n",
    "\n",
    "if __name__ == '__main__':\n",
    "    unittest.main()\n"
   ]
  },
  {
   "cell_type": "code",
   "execution_count": null,
   "metadata": {
    "collapsed": false
   },
   "outputs": [],
   "source": [
    "##### pre_processing.py\n",
    "import pandas as pd\n",
    "import numpy as np\n",
    "\n",
    "print('Start reading file')\n",
    "df = pd.read_csv('data/train.csv', delimiter=';', nrows = 100000)\n",
    "\n",
    "print(df.shape)\n",
    "\n",
    "s=0\n",
    "#l=len(pd.read_csv('data/train.csv').values)\n",
    "\n",
    "#sum(1 for row in pd.read_csv('data/train.csv'))\n",
    "column_names=df.columns.tolist()\n"
   ]
  },
  {
   "cell_type": "code",
   "execution_count": null,
   "metadata": {
    "collapsed": false
   },
   "outputs": [],
   "source": [
    "#print(df.mean(axis=0))\n",
    "#print(df.std(axis=0))\n",
    "means=df.mean(axis=0)\n",
    "print(\"Means computed.\")\n",
    "st_dev=df.std(axis=0)\n",
    "print(\"StDev computed.\")\n",
    "\n",
    "#Find useless values\n",
    "l_useless=[]\n",
    "for c in column_names:\n",
    "    print(c, means[c], st_dev[c])"
   ]
  },
  {
   "cell_type": "code",
   "execution_count": 4,
   "metadata": {
    "collapsed": false,
    "scrolled": true
   },
   "outputs": [],
   "source": [
    "#Clean dataset\n",
    "df_clean=df\n",
    "for u in l_useless:\n",
    "    df_clean=df_clean.drop(u,axis=1)\n",
    "    \n",
    "df_clean=df_clean.drop('ASS_COMENT',axis=1)\n",
    "\n",
    "#Columns\n",
    "col_clean=df_clean.columns.tolist()\n",
    "\n",
    "#Remove null_values\n",
    "for c in col_clean:\n",
    "    if (sum(pd.isnull(df_clean[c]))==len(df_clean[c])):\n",
    "        df_clean=df_clean.drop(c,axis=1)\n",
    "\n",
    "#Columns\n",
    "col_clean=df_clean.columns.tolist()\n",
    "       \n",
    "for c in col_clean:\n",
    "    if type(df_clean[c][0])==str:\n",
    "        ll=[]\n",
    "        for i in range(len(df_clean[c])):\n",
    "            if df_clean[c][i] not in ll:\n",
    "                ll.append(df_clean[c][i])\n",
    "            "
   ]
  },
  {
   "cell_type": "code",
   "execution_count": 5,
   "metadata": {
    "collapsed": false
   },
   "outputs": [
    {
     "name": "stdout",
     "output_type": "stream",
     "text": [
      "{0: (0.0, 0, 0), 1: (0.04, 0, 0), 2: (0.08, 0, 0), 3: (0.12, 0, 0), 4: (0.16, 0, 0), 5: (0.2, 0, 0), 6: (0.24, 0, 0), 7: (0.28, 0, 0), 8: (0.32, 0, 0), 9: (0.36, 0, 0), 10: (0.4, 0, 0), 11: (0.44, 0, 0), 12: (0.48, 0, 0), 13: (0.52, 0, 0), 14: (0.56, 0, 0), 15: (0.6, 0, 0), 16: (0.64, 0, 0), 17: (0.68, 0, 0), 18: (0.72, 0, 0), 19: (0.76, 0, 0), 20: (0.8, 0, 0), 21: (0.84, 0, 0), 22: (0.88, 0, 0), 25: (1.0, 0, 0)}\n",
      "[ 0.91226373  0.05997979]\n"
     ]
    },
    {
     "data": {
      "image/png": "[encoded data removed]",
      "text/plain": [
       "<matplotlib.figure.Figure at 0x2a565a51b00>"
      ]
     },
     "metadata": {},
     "output_type": "display_data"
    }
   ],
   "source": [
    "from sklearn.decomposition import PCA\n",
    "import matplotlib.pyplot as plt\n",
    "from matplotlib.colors import *\n",
    "\n",
    "#print(col_clean)\n",
    "\n",
    "\n",
    "data=df_clean.values.T\n",
    "data_num=[data[len(data)-5]]\n",
    "\n",
    "for d in data:\n",
    "    if(type(d[0])!=str and not pd.isnull(d[0])):\n",
    "        data_num.append(d)\n",
    "\n",
    "del data_num[len(data_num)-5]\n",
    "\n",
    "X_tofit=np.array(data_num[1:len(data_num)]).T\n",
    "pca=PCA(n_components=2)\n",
    "Z=pca.fit_transform(X_tofit)\n",
    "\n",
    "\n",
    "x_plot=[x[0] for x in Z]\n",
    "y_plot=[y[1] for y in Z]\n",
    "\n",
    "l_label=[]\n",
    "for i in data_num[0]:\n",
    "    if not i in l_label:\n",
    "        l_label.append(i)\n",
    "LABEL_COLOR_MAP = {i : (0*(i>0)+i/max(l_label), 0, 0) for i in l_label\n",
    "    }\n",
    "print(LABEL_COLOR_MAP)\n",
    "label_color = [LABEL_COLOR_MAP[l] for l in data_num[0]]\n",
    "\n",
    "print(pca.explained_variance_ratio_)\n",
    "\n",
    "plt.scatter(x_plot,y_plot,c=label_color)\n",
    "plt.show()"
   ]
  },
  {
   "cell_type": "code",
   "execution_count": 7,
   "metadata": {
    "collapsed": false
   },
   "outputs": [],
   "source": [
    "y=df_clean['CSPL_CALLS'].values\n",
    "df_clean.drop('CSPL_CALLS',axis=1)\n",
    "df_tr=df_clean.values\n",
    "df_tr2=[]\n",
    "\n",
    "for i in range(len(df_tr.T)):\n",
    "    if(type(df_tr.T[i][0])==str):\n",
    "        d=pd.get_dummies(df_tr.T[i]).values.T\n",
    "        for d2 in d:\n",
    "            df_tr2.append(d2)\n",
    "    else:\n",
    "        df_tr2.append(df_tr.T[i])\n",
    "\n",
    "df_tr2=np.array(df_tr2)\n",
    "\n",
    "\n",
    "X2=df_tr2.T\n"
   ]
  },
  {
   "cell_type": "code",
   "execution_count": 10,
   "metadata": {
    "collapsed": false
   },
   "outputs": [
    {
     "data": {
      "text/plain": [
       "4.0948717325679773e-05"
      ]
     },
     "execution_count": 10,
     "metadata": {},
     "output_type": "execute_result"
    }
   ],
   "source": [
    "from sklearn.linear_model import Ridge\n",
    "from sklearn.model_selection import train_test_split\n",
    "\n",
    "X_train, X_test, y_train, y_test = train_test_split(X2, y, test_size=0.2)\n",
    "\n",
    "S=Ridge()\n",
    "S.fit(X_train,y_train)\n",
    "y2=S.predict(X_test)\n",
    "sum(abs(y2-y_test))/len(y2)"
   ]
  },
  {
   "cell_type": "code",
   "execution_count": 11,
   "metadata": {
    "collapsed": false
   },
   "outputs": [
    {
     "data": {
      "text/plain": [
       "2.8941672778448613e-05"
      ]
     },
     "execution_count": 11,
     "metadata": {},
     "output_type": "execute_result"
    }
   ],
   "source": [
    "import error_functions as ef\n",
    "\n",
    "ef.linex_loss(y2, y_test)"
   ]
  },
  {
   "cell_type": "code",
   "execution_count": 15,
   "metadata": {
    "collapsed": false
   },
   "outputs": [
    {
     "data": {
      "text/plain": [
       "(80000, 1688)"
      ]
     },
     "execution_count": 15,
     "metadata": {},
     "output_type": "execute_result"
    }
   ],
   "source": [
    "X_train.shape"
   ]
  },
  {
   "cell_type": "code",
   "execution_count": null,
   "metadata": {
    "collapsed": true
   },
   "outputs": [],
   "source": []
  }
 ],
 "metadata": {
  "anaconda-cloud": {},
  "kernelspec": {
   "display_name": "Python [conda root]",
   "language": "python",
   "name": "conda-root-py"
  }
 },
 "nbformat": 4,
 "nbformat_minor": 0
}
