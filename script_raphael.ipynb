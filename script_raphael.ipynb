{
 "cells": [
  {
   "cell_type": "markdown",
   "metadata": {},
   "source": [
    "# Running some tests"
   ]
  },
  {
   "cell_type": "markdown",
   "metadata": {},
   "source": [
    "### Doc - Datetime functions"
   ]
  },
  {
   "cell_type": "code",
   "execution_count": 12,
   "metadata": {
    "collapsed": false
   },
   "outputs": [],
   "source": [
    "if False:\n",
    "    # Description of all datetime operations\n",
    "    d = datetime.datetime.now()\n",
    "    print(d)\n",
    "    # Jour dans le mois\n",
    "    print(d.day)\n",
    "    # Numéro du mois\n",
    "    print(d.month)\n",
    "    # Année\n",
    "    print(d.year)\n",
    "    # Jour travaillé (0/1)\n",
    "    print(d.isoweekday())\n",
    "    # Heure\n",
    "    print(d.hour)\n",
    "    # Minutes\n",
    "    print(d.minute)\n",
    "    # Secondes\n",
    "    print(d.second)"
   ]
  },
  {
   "cell_type": "markdown",
   "metadata": {},
   "source": [
    "# Feature Extraction"
   ]
  },
  {
   "cell_type": "markdown",
   "metadata": {},
   "source": [
    "## Feature functions"
   ]
  },
  {
   "cell_type": "code",
   "execution_count": 1,
   "metadata": {
    "collapsed": false
   },
   "outputs": [],
   "source": [
    "# Few functions to add features to the dataframe.\n",
    "\n",
    "\n",
    "def is_working_day(d):\n",
    "    return d.isoweekday()<6\n",
    "\n",
    "def trimester(d):\n",
    "    return (d.month-1)//3\n",
    "\n",
    "def is_day_shift(d):\n",
    "    min_hour = {\n",
    "        'hour':7,\n",
    "        'minute':30\n",
    "    }\n",
    "    max_hour = {\n",
    "        'hour':23,\n",
    "        'minute':30\n",
    "    }\n",
    "    hour_day = d.hour*60+d.minute\n",
    "    return (hour_day > min_hour['hour']*60+min_hour['minute']) & (hour_day < max_hour['hour']*60+max_hour['minute'])\n",
    "\n",
    "def evolution_over_years(d):\n",
    "    min_date = {\n",
    "        \"year\": 2011,\n",
    "        \"month\": 1,\n",
    "        \"day\": 1\n",
    "    }\n",
    "    date_trimester = trimester(d)\n",
    "    year = d.year\n",
    "    return (year-min_date['year'])*4+date_trimester"
   ]
  },
  {
   "cell_type": "markdown",
   "metadata": {},
   "source": [
    "## Libraries"
   ]
  },
  {
   "cell_type": "code",
   "execution_count": 33,
   "metadata": {
    "collapsed": false
   },
   "outputs": [],
   "source": [
    "# All library imports\n",
    "\n",
    "import math\n",
    "import pandas as pd\n",
    "import numpy as np\n",
    "import error_functions as ef\n",
    "from sklearn.linear_model import Ridge\n",
    "from sklearn.ensemble import RandomForestRegressor\n",
    "from sklearn.model_selection import train_test_split\n",
    "import xgboost as xgb"
   ]
  },
  {
   "cell_type": "code",
   "execution_count": 3,
   "metadata": {
    "collapsed": false
   },
   "outputs": [],
   "source": [
    "# Map to convert ass_assignments to integer values\n",
    "assignments = ['CAT', 'CMS', 'Crises', 'Domicile',\n",
    "       'Evenements', 'Gestion', 'Gestion - Accueil Telephonique',\n",
    "       'Gestion Amex', 'Gestion Assurances', 'Gestion Clients', 'Gestion DZ',\n",
    "       'Gestion Relation Clienteles', 'Gestion Renault', 'Japon', 'Manager',\n",
    "       'Mécanicien', 'Médical', 'Nuit', 'Prestataires', 'RENAULT', 'RTC',\n",
    "       'Regulation Medicale', 'SAP', 'Services', 'Tech. Axa', 'Tech. Inter',\n",
    "       'Tech. Total', 'Téléphonie']\n",
    "\n",
    "map_assignment = {}\n",
    "for i in range(len(assignments)):\n",
    "    map_assignment[assignments[i]]=i\n",
    "    \n",
    "map_assignment_inverse = {}\n",
    "for i in range(len(assignments)):\n",
    "    map_assignment_inverse[i] = assignments[i]"
   ]
  },
  {
   "cell_type": "code",
   "execution_count": 4,
   "metadata": {
    "collapsed": false
   },
   "outputs": [
    {
     "name": "stdout",
     "output_type": "stream",
     "text": [
      "Importing train values...\n"
     ]
    },
    {
     "name": "stderr",
     "output_type": "stream",
     "text": [
      "C:\\Users\\Raphael\\AppData\\Local\\Continuum\\Anaconda3\\lib\\site-packages\\IPython\\core\\interactiveshell.py:2717: DtypeWarning: Columns (17) have mixed types. Specify dtype option on import or set low_memory=False.\n",
      "  interactivity=interactivity, compiler=compiler, result=result)\n"
     ]
    },
    {
     "name": "stdout",
     "output_type": "stream",
     "text": [
      "Reading train file ok.\n",
      "Extracting results ok.\n",
      "Importing submission values...\n",
      "Reading submission file ok.\n",
      "Dropping prediction from submission ok.\n"
     ]
    }
   ],
   "source": [
    "print(\"Importing train values...\")\n",
    "calls = pd.read_csv('data/train.csv', delimiter=';')\n",
    "print(\"Reading train file ok.\")\n",
    "y = calls['CSPL_CALLS']\n",
    "print(\"Extracting results ok.\")\n",
    "print(\"Importing submission values...\")\n",
    "submission = pd.read_csv('data/submission.txt', sep=\"\\t\")\n",
    "print(\"Reading submission file ok.\")\n",
    "submission = submission.drop('prediction', axis=1)\n",
    "print(\"Dropping prediction from submission ok.\")"
   ]
  },
  {
   "cell_type": "code",
   "execution_count": 5,
   "metadata": {
    "collapsed": false
   },
   "outputs": [
    {
     "name": "stdout",
     "output_type": "stream",
     "text": [
      "Train date to timetable ok.\n",
      "Submission date to timetable ok.\n"
     ]
    }
   ],
   "source": [
    "calls['DATE'] = pd.to_datetime(calls['DATE'],infer_datetime_format=True)\n",
    "print(\"Train date to timetable ok.\")\n",
    "submission['DATE'] = pd.to_datetime(submission['DATE'],infer_datetime_format=True)\n",
    "print(\"Submission date to timetable ok.\")"
   ]
  },
  {
   "cell_type": "code",
   "execution_count": 6,
   "metadata": {
    "collapsed": false
   },
   "outputs": [
    {
     "name": "stdout",
     "output_type": "stream",
     "text": [
      "Extraction of columns date and ass_assignment ok.\n",
      "\n",
      "Adding new features to train...\n",
      "Year, month, day ok.\n",
      "Hour, minute ok.\n",
      "Working day ok.\n",
      "Shift ok.\n",
      "Trimester ok.\n",
      "Evolution ok.\n",
      "Creating dummies ok.\n",
      "Dropping string columns ok.\n",
      "\n",
      "Adding new features to submission...\n",
      "Year, month, day ok.\n",
      "Hour, minute ok.\n",
      "Working day ok.\n",
      "Shift ok.\n",
      "Trimester ok.\n",
      "Evolution ok.\n",
      "Creating dummies ok.\n",
      "Saving date column ok.\n",
      "Saving ass_assignment ok.\n",
      "Dropping string columns ok.\n"
     ]
    }
   ],
   "source": [
    "calls = calls[[\"DATE\", \"ASS_ASSIGNMENT\"]]\n",
    "print(\"Extraction of columns date and ass_assignment ok.\")\n",
    "print(\"\")\n",
    "print(\"Adding new features to train...\")\n",
    "calls['year'] = [dd.year for dd in calls['DATE']]\n",
    "calls['month'] = [dd.month for dd in calls['DATE']]\n",
    "calls['day'] = [dd.day for dd in calls['DATE']]\n",
    "print(\"Year, month, day ok.\")\n",
    "calls['hour'] = [dd.hour for dd in calls['DATE']]\n",
    "calls['minute'] = [dd.minute for dd in calls['DATE']]\n",
    "#calls['second'] = [dd.second for dd in calls['DATE']]\n",
    "print(\"Hour, minute ok.\")\n",
    "calls['working'] = [is_working_day(dd) for dd in calls['DATE']]\n",
    "print(\"Working day ok.\")\n",
    "calls['shift'] = [is_day_shift(dd) for dd in calls['DATE']]\n",
    "print(\"Shift ok.\")\n",
    "calls['trimester'] = [trimester(dd) for dd in calls['DATE']]\n",
    "print(\"Trimester ok.\")\n",
    "calls['evolution'] = [evolution_over_years(dd) for dd in calls['DATE']]\n",
    "print(\"Evolution ok.\")\n",
    "calls['assignment'] = calls['ASS_ASSIGNMENT'].map(map_assignment)\n",
    "print(\"Creating dummies ok.\")\n",
    "calls = calls.drop(['DATE','ASS_ASSIGNMENT'], axis=1)\n",
    "print(\"Dropping string columns ok.\")\n",
    "print(\"\")\n",
    "print(\"Adding new features to submission...\")\n",
    "submission['year'] = [dd.year for dd in submission['DATE']]\n",
    "submission['month'] = [dd.month for dd in submission['DATE']]\n",
    "submission['day'] = [dd.day for dd in submission['DATE']]\n",
    "print(\"Year, month, day ok.\")\n",
    "submission['hour'] = [dd.hour for dd in submission['DATE']]\n",
    "submission['minute'] = [dd.minute for dd in submission['DATE']]\n",
    "#submission['second'] = [dd.second for dd in submission['DATE']]\n",
    "print(\"Hour, minute ok.\")\n",
    "submission['working'] = [is_working_day(dd) for dd in submission['DATE']]\n",
    "print(\"Working day ok.\")\n",
    "submission['shift'] = [is_day_shift(dd) for dd in submission['DATE']]\n",
    "print(\"Shift ok.\")\n",
    "submission['trimester'] = [trimester(dd) for dd in submission['DATE']]\n",
    "print(\"Trimester ok.\")\n",
    "submission['evolution'] = [evolution_over_years(dd) for dd in submission['DATE']]\n",
    "print(\"Evolution ok.\")\n",
    "submission['assignment'] = submission['ASS_ASSIGNMENT'].map(map_assignment)\n",
    "print(\"Creating dummies ok.\")\n",
    "save_date = submission['DATE']\n",
    "print(\"Saving date column ok.\")\n",
    "save_ass_assignment = submission['ASS_ASSIGNMENT']\n",
    "print(\"Saving ass_assignment ok.\")\n",
    "submission = submission.drop(['DATE','ASS_ASSIGNMENT'], axis=1)\n",
    "print(\"Dropping string columns ok.\")"
   ]
  },
  {
   "cell_type": "code",
   "execution_count": 7,
   "metadata": {
    "collapsed": false
   },
   "outputs": [
    {
     "name": "stdout",
     "output_type": "stream",
     "text": [
      "CAT : 41206\n",
      "CMS : 18803\n",
      "Crises : 26652\n",
      "Domicile : 193886\n",
      "Evenements : 662\n",
      "Gestion : 48093\n",
      "Gestion - Accueil Telephonique : 126677\n",
      "Gestion Amex : 13507\n",
      "Gestion Assurances : 40879\n",
      "Gestion Clients : 33614\n",
      "Gestion DZ : 31931\n",
      "Gestion Relation Clienteles : 32149\n",
      "Gestion Renault : 46285\n",
      "Japon : 92392\n",
      "Manager : 91824\n",
      "Mécanicien : 53768\n",
      "Médical : 373492\n",
      "Nuit : 192868\n",
      "Prestataires : 15354\n",
      "RENAULT : 359561\n",
      "RTC : 43123\n",
      "Regulation Medicale : 92274\n",
      "SAP : 47661\n",
      "Services : 410137\n",
      "Tech. Axa : 416986\n",
      "Tech. Inter : 427524\n",
      "Tech. Total : 219987\n",
      "Téléphonie : 7387175\n"
     ]
    }
   ],
   "source": [
    "for i in range(len(assignments)):\n",
    "    tmp = calls[calls['assignment']==i]\n",
    "    count = len(tmp)\n",
    "    print(map_assignment_inverse[i], \":\", count)"
   ]
  },
  {
   "cell_type": "markdown",
   "metadata": {},
   "source": [
    "# Implementing regressor"
   ]
  },
  {
   "cell_type": "markdown",
   "metadata": {},
   "source": [
    "## Basic cross-validation with one regressor"
   ]
  },
  {
   "cell_type": "code",
   "execution_count": 8,
   "metadata": {
    "collapsed": false
   },
   "outputs": [
    {
     "name": "stdout",
     "output_type": "stream",
     "text": [
      "------------------------\n",
      "--- CROSS VALIDATION ---\n",
      "\n",
      "Creating regressor...\n",
      "Splitting train from test ok.\n",
      "Instanciating regressor ok.\n",
      "Training phase ok.\n",
      "Prediction ok.\n",
      "Pandas series to numpy array ok.\n",
      "Compute of loss ok :  1.48235997787e+13\n"
     ]
    }
   ],
   "source": [
    "print(\"------------------------\")\n",
    "print(\"--- CROSS VALIDATION ---\")\n",
    "print(\"\")\n",
    "print(\"Creating regressor...\")\n",
    "X_train, X_test, y_train, y_test = train_test_split(calls, y, test_size=82909)\n",
    "print(\"Splitting train from test ok.\")\n",
    "S=Ridge()\n",
    "print(\"Instanciating regressor ok.\")\n",
    "S.fit(X_train, y_train)\n",
    "print(\"Training phase ok.\")\n",
    "y2=S.predict(X_test)\n",
    "print(\"Prediction ok.\")\n",
    "y_test = np.array(y_test)\n",
    "print(\"Pandas series to numpy array ok.\")\n",
    "loss = ef.linex_loss(y2, y_test)\n",
    "print(\"Compute of loss ok : \", loss)"
   ]
  },
  {
   "cell_type": "markdown",
   "metadata": {},
   "source": [
    "## Multiple regressors over ASS_ASSIGNMENT category"
   ]
  },
  {
   "cell_type": "code",
   "execution_count": null,
   "metadata": {
    "collapsed": false,
    "scrolled": true
   },
   "outputs": [
    {
     "name": "stdout",
     "output_type": "stream",
     "text": [
      "--- TRAINING ---\n"
     ]
    },
    {
     "name": "stderr",
     "output_type": "stream",
     "text": [
      "C:\\Users\\Raphael\\AppData\\Local\\Continuum\\Anaconda3\\lib\\site-packages\\ipykernel\\__main__.py:8: SettingWithCopyWarning: \n",
      "A value is trying to be set on a copy of a slice from a DataFrame.\n",
      "Try using .loc[row_indexer,col_indexer] = value instead\n",
      "\n",
      "See the caveats in the documentation: http://pandas.pydata.org/pandas-docs/stable/indexing.html#indexing-view-versus-copy\n",
      "C:\\Users\\Raphael\\AppData\\Local\\Continuum\\Anaconda3\\lib\\site-packages\\ipykernel\\__main__.py:10: SettingWithCopyWarning: \n",
      "A value is trying to be set on a copy of a slice from a DataFrame.\n",
      "Try using .loc[row_indexer,col_indexer] = value instead\n",
      "\n",
      "See the caveats in the documentation: http://pandas.pydata.org/pandas-docs/stable/indexing.html#indexing-view-versus-copy\n"
     ]
    }
   ],
   "source": [
    "map_regressor = {}\n",
    "for i in range(len(assignments)):\n",
    "    map_regressor[i] = RandomForestRegressor(n_estimators=300)\n",
    "    \n",
    "print(\"--- TRAINING ---\")\n",
    "X_train, X_test, y_train, y_test = train_test_split(calls, y, test_size=82909)\n",
    "X_train_full = X_train\n",
    "X_train_full['pred'] = y_train\n",
    "X_test_full = X_test\n",
    "X_test_full['pred'] = y_test\n",
    "for i in range(len(assignments)):\n",
    "    el_x = X_train_full[X_train_full['assignment']==i]\n",
    "    el_y = el_x['pred']\n",
    "    el_x = el_x.drop(\"pred\", axis=1)\n",
    "    map_regressor[i].fit(el_x, el_y)"
   ]
  },
  {
   "cell_type": "code",
   "execution_count": 32,
   "metadata": {
    "collapsed": false
   },
   "outputs": [
    {
     "name": "stdout",
     "output_type": "stream",
     "text": [
      "CAT  -  261 / 315\n",
      "\t\t\t\t 118.0 \t 43.0 \t 161\n",
      "CMS  -  0 / 143\n",
      "\t\t\t\t 1.0 \t 0.0 \t 1\n",
      "Crises  -  0 / 173\n",
      "\t\t\t\t 0.0 \t 0.0 \t 0\n",
      "Domicile  -  59 / 1508\n",
      "\t\t\t\t 36.0 \t 4.0 \t 40\n",
      "Evenements  -  6 / 8\n",
      "\t\t\t\t 248.0 \t 208.0 \t 456\n",
      "Gestion  -  0 / 376\n",
      "\t\t\t\t 1.0 \t 0.0 \t 1\n",
      "Gestion - Accueil Telephonique  -  12 / 954\n",
      "\t\t\t\t 38.0 \t 2.0 \t 40\n",
      "Gestion Amex  -  0 / 81\n",
      "\t\t\t\t 2.0 \t 0.0 \t 2\n",
      "Gestion Assurances  -  0 / 276\n",
      "\t\t\t\t 9.0 \t 1.0 \t 10\n",
      "Gestion Clients  -  0 / 236\n",
      "\t\t\t\t 4.0 \t 0.0 \t 4\n",
      "Gestion DZ  -  0 / 226\n",
      "\t\t\t\t 2.0 \t 0.0 \t 2\n",
      "Gestion Relation Clienteles  -  0 / 262\n",
      "\t\t\t\t 7.0 \t 0.0 \t 7\n",
      "Gestion Renault  -  0 / 364\n",
      "\t\t\t\t 2.0 \t 0.0 \t 2\n",
      "Japon  -  0 / 653\n",
      "\t\t\t\t 5.0 \t 0.0 \t 5\n",
      "Manager  -  0 / 703\n",
      "\t\t\t\t 1.0 \t 0.0 \t 1\n",
      "Mécanicien  -  0 / 398\n",
      "\t\t\t\t 4.0 \t 0.0 \t 4\n",
      "Médical  -  11 / 2850\n",
      "\t\t\t\t 18.0 \t 2.0 \t 20\n",
      "Nuit  -  10 / 1404\n",
      "\t\t\t\t 54.0 \t 1.0 \t 55\n",
      "Prestataires  -  0 / 118\n",
      "\t\t\t\t 1.0 \t 0.0 \t 1\n",
      "RENAULT  -  11 / 2748\n",
      "\t\t\t\t 54.0 \t 1.0 \t 55\n",
      "RTC  -  5 / 312\n",
      "\t\t\t\t 19.0 \t 3.0 \t 22\n",
      "Regulation Medicale  -  0 / 749\n",
      "\t\t\t\t 7.0 \t 0.0 \t 7\n",
      "SAP  -  0 / 364\n",
      "\t\t\t\t 10.0 \t 2.0 \t 12\n",
      "Services  -  35 / 3095\n",
      "\t\t\t\t 21.0 \t 2.0 \t 23\n",
      "Tech. Axa  -  534 / 3211\n",
      "\t\t\t\t 235.0 \t 11.0 \t 246\n",
      "Tech. Inter  -  21 / 3245\n",
      "\t\t\t\t 30.0 \t 1.0 \t 31\n",
      "Tech. Total  -  48 / 1752\n",
      "\t\t\t\t 25.0 \t 5.0 \t 30\n",
      "Téléphonie  -  372 / 56385\n",
      "\t\t\t\t 142.0 \t 1.0 \t 143\n",
      "size  56385\n",
      "loss  83000030795.6\n"
     ]
    }
   ],
   "source": [
    "error = 0\n",
    "for i in range(len(assignments)):\n",
    "    el_x = X_test_full[X_test_full['assignment']==i]\n",
    "    size = len(el_x)\n",
    "    el_y = el_x['pred']\n",
    "    el_x = el_x.drop('pred', axis=1)\n",
    "    y2 = map_regressor[i].predict(el_x)\n",
    "    el_y = np.array(el_y)\n",
    "    y2 = np.round(np.array(y2))\n",
    "\n",
    "    error_tmp = ef.linex_loss(np.array(y2), np.array(el_y))\n",
    "    print(map_assignment_inverse[i], \" - \", (10 < np.abs(np.array(y2)-np.array(el_y))).sum(), \"/\", size)\n",
    "    imax = np.argmax(np.abs(np.array(y2)-np.array(el_y)))\n",
    "    print(\"\\t\\t\\t\\t\", np.max(np.abs(np.array(y2)-np.array(el_y))), \"\\t\", y2[imax], \"\\t\", el_y[imax])\n",
    "    error += error_tmp\n",
    "    \n",
    "print(\"size \", size)\n",
    "print(\"loss \", error)"
   ]
  },
  {
   "cell_type": "code",
   "execution_count": null,
   "metadata": {
    "collapsed": true
   },
   "outputs": [],
   "source": []
  },
  {
   "cell_type": "markdown",
   "metadata": {},
   "source": [
    "## Multiple regressors over SHIFT (Day/Night) category"
   ]
  },
  {
   "cell_type": "code",
   "execution_count": 61,
   "metadata": {
    "collapsed": false
   },
   "outputs": [
    {
     "name": "stdout",
     "output_type": "stream",
     "text": [
      "------------------------\n",
      "--- CROSS VALIDATION ---\n",
      "\n",
      "Creating regressor...\n",
      "Splitting train from test ok.\n",
      "Instanciating regressors (day/night) ok.\n",
      "Training phase ok.\n"
     ]
    },
    {
     "name": "stderr",
     "output_type": "stream",
     "text": [
      "C:\\Users\\Raphael\\AppData\\Local\\Continuum\\Anaconda3\\lib\\site-packages\\ipykernel\\__main__.py:56: SettingWithCopyWarning: \n",
      "A value is trying to be set on a copy of a slice from a DataFrame.\n",
      "Try using .loc[row_indexer,col_indexer] = value instead\n",
      "\n",
      "See the caveats in the documentation: http://pandas.pydata.org/pandas-docs/stable/indexing.html#indexing-view-versus-copy\n",
      "C:\\Users\\Raphael\\AppData\\Local\\Continuum\\Anaconda3\\lib\\site-packages\\ipykernel\\__main__.py:58: SettingWithCopyWarning: \n",
      "A value is trying to be set on a copy of a slice from a DataFrame.\n",
      "Try using .loc[row_indexer,col_indexer] = value instead\n",
      "\n",
      "See the caveats in the documentation: http://pandas.pydata.org/pandas-docs/stable/indexing.html#indexing-view-versus-copy\n"
     ]
    },
    {
     "name": "stdout",
     "output_type": "stream",
     "text": [
      "Prediction ok.\n",
      "Pandas series to numpy array ok.\n",
      "Compute of loss ok :  177141729136.0\n"
     ]
    }
   ],
   "source": [
    "print(\"------------------------\")\n",
    "print(\"--- CROSS VALIDATION ---\")\n",
    "print(\"\")\n",
    "separate_calls = calls\n",
    "separate_calls['call'] = y\n",
    "day_calls = separate_calls[separate_calls['shift']==1]\n",
    "y_day = day_calls['call']\n",
    "day_calls.drop('call', axis=1)\n",
    "night_calls = separate_calls[separate_calls['shift']==0]\n",
    "y_night = night_calls['call']\n",
    "night_calls.drop('call', axis=1)\n",
    "\n",
    "print(\"Creating regressor...\")\n",
    "\n",
    "X_day_train, X_day_test, y_day_train, y_day_test = train_test_split(day_calls, y_day, test_size=56590)\n",
    "X_night_train, X_night_test, y_night_train, y_night_test = train_test_split(night_calls, y_night, test_size=26319)\n",
    "print(\"Splitting train from test ok.\")\n",
    "\n",
    "day_regressor = Ridge()\n",
    "night_regressor = Ridge()\n",
    "print(\"Instanciating regressors (day/night) ok.\")\n",
    "\n",
    "day_regressor.fit(X_day_train, y_day_train)\n",
    "night_regressor.fit(X_night_train, y_night_train)\n",
    "print(\"Training phase ok.\")\n",
    "\n",
    "y2_night = night_regressor.predict(X_night_test)\n",
    "X_night_test['pred']=y2_night\n",
    "y2_day = day_regressor.predict(X_day_test)\n",
    "X_day_test['pred']=y2_day\n",
    "new_calls = pd.concat([X_night_test, X_day_test], axis=0)\n",
    "y2 = new_calls['pred']\n",
    "print(\"Prediction ok.\")\n",
    "\n",
    "y_test = np.array(y_test)\n",
    "y2 = np.array(y2)\n",
    "print(\"Pandas series to numpy array ok.\")\n",
    "loss = ef.linex_loss(y2, y_test)\n",
    "print(\"Compute of loss ok : \", loss)"
   ]
  },
  {
   "cell_type": "markdown",
   "metadata": {},
   "source": [
    "## Regression over submission values"
   ]
  },
  {
   "cell_type": "code",
   "execution_count": null,
   "metadata": {
    "collapsed": true
   },
   "outputs": [],
   "source": [
    "print(\"------------------\")\n",
    "print(\"--- SUBMISSION ---\")\n",
    "print(\"\")\n",
    "S=Ridge()\n",
    "print(\"Instanciating regressor ok.\")\n",
    "S.fit(calls, y)\n",
    "print(\"Training phase ok.\")\n",
    "y2=S.predict(submission)\n",
    "print(\"Prediction ok.\")\n",
    "for i, el in np.ndenumerate(y2):\n",
    "    if el < 0:\n",
    "        y2[i] = 0\n",
    "    else:\n",
    "        y2[i] = int(math.floor(y2[i]))\n",
    "print(\"Taking floor value of prediction\")\n",
    "submission['DATE'] = save_date\n",
    "submission['ASS_ASSIGNMENT'] = save_ass_assignment\n",
    "submission['prediction'] = y2\n",
    "print(\"Adding date, ass_assignment, prediction to dataframe ok.\")\n",
    "submission = submission[['DATE', 'ASS_ASSIGNMENT', 'prediction']]\n",
    "print(\"Dropping all other columns ok.\")\n",
    "submission.to_csv(\"submission_test.txt\", sep=\"\\t\", index=False)\n",
    "print(\"Writing to file ok.\")"
   ]
  }
 ],
 "metadata": {
  "anaconda-cloud": {},
  "kernelspec": {
   "display_name": "Python [conda root]",
   "language": "python",
   "name": "conda-root-py"
  },
  "language_info": {
   "codemirror_mode": {
    "name": "ipython",
    "version": 2
   },
   "file_extension": ".py",
   "mimetype": "text/x-python",
   "name": "python",
   "nbconvert_exporter": "python",
   "pygments_lexer": "ipython2",
   "version": "2.7.12"
  }
 },
 "nbformat": 4,
 "nbformat_minor": 2
}
